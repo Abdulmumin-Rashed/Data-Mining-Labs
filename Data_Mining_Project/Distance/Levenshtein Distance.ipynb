{
 "cells": [
  {
   "cell_type": "code",
   "execution_count": 1,
   "metadata": {},
   "outputs": [
    {
     "name": "stdout",
     "output_type": "stream",
     "text": [
      "Collecting pyenchant\n",
      "  Downloading pyenchant-3.2.2-py3-none-win_amd64.whl (11.9 MB)\n",
      "Installing collected packages: pyenchant\n",
      "Successfully installed pyenchant-3.2.2\n"
     ]
    }
   ],
   "source": [
    "#!pip install pyenchant"
   ]
  },
  {
   "cell_type": "code",
   "execution_count": 97,
   "metadata": {},
   "outputs": [
    {
     "name": "stdout",
     "output_type": "stream",
     "text": [
      "Levenshtein Distance between helo and hello = 1\n",
      "Levenshtein Distance between algorithm and rhythm = 6\n",
      "Levenshtein Distance between kitten and sitting = 3\n",
      "Levenshtein Distance between gate and goat = 2\n"
     ]
    }
   ],
   "source": [
    "import enchant\n",
    "\n",
    "def levenshteinDistance(A, B):\n",
    "    # In-built function for calculating Levenshtein distance\n",
    "    return enchant.utils.levenshtein(A, B)\n",
    "\n",
    "A = [\"helo\", \"algorithm\", \"kitten\", \"gate\"]\n",
    "B = [\"hello\", \"rhythm\", \"sitting\", \"goat\"]\n",
    "for i in range(len(A)):\n",
    "    print(\"Levenshtein Distance between {} and {} = {}\".format(A[i], B[i], levenshteinDistance(A[i], B[i])))\n"
   ]
  },
  {
   "cell_type": "code",
   "execution_count": 98,
   "metadata": {
    "scrolled": true
   },
   "outputs": [
    {
     "name": "stdout",
     "output_type": "stream",
     "text": [
      "Levenshtein Distance between helo and hello = 1\n",
      "Levenshtein Distance between algorithm and rhythm = 6\n",
      "Levenshtein Distance between kitten and sitting = 3\n",
      "Levenshtein Distance between gate and goat = 2\n"
     ]
    }
   ],
   "source": [
    "def levenshteinFullMatrix(str1, str2, costs=(1, 1, 1)):\n",
    "    m = len(str1)\n",
    "    n = len(str2)\n",
    "    deletes, inserts, substitutes = costs\n",
    "    # Initialize a matrix to store the edit distances\n",
    "    dp = [[0 for _ in range(n + 1)] for _ in range(m + 1)]\n",
    "\n",
    "    # Initialize the first row and column with values from 0 to m and 0 to n respectively\n",
    "    for i in range(m + 1):\n",
    "        dp[i][0] = i * deletes\n",
    "    for j in range(n + 1):\n",
    "        dp[0][j] = j * inserts\n",
    "   \n",
    "    # Fill the matrix using dynamic programming to compute edit distances\n",
    "    for i in range(1, m + 1):\n",
    "        for j in range(1, n + 1):\n",
    "            if str1[i - 1] == str2[j - 1]:\n",
    "                # Characters match, no operation needed\n",
    "                cost = 0\n",
    "            else:\n",
    "                cost = substitutes\n",
    "            # Characters don't match, choose minimum cost among insertion, deletion, or substitution\n",
    "            dp[i][j] = min(dp[i][j - 1]+inserts, dp[i - 1][j]+deletes, dp[i - 1][j - 1]+cost)\n",
    "    # Return the edit distance between the strings\n",
    "    return dp[m][n]\n",
    "\n",
    "# Driver code\n",
    "\n",
    "A = [\"helo\", \"algorithm\", \"kitten\", \"gate\"]\n",
    "B = [\"hello\", \"rhythm\", \"sitting\", \"goat\"]\n",
    "\n",
    "# Function Call\n",
    "for i in range(len(A)):\n",
    "        print(\"Levenshtein Distance between {} and {} = {}\".format(A[i], B[i], levenshteinFullMatrix(A[i], B[i])))\n",
    "\n"
   ]
  },
  {
   "cell_type": "code",
   "execution_count": 99,
   "metadata": {
    "scrolled": true
   },
   "outputs": [
    {
     "name": "stdout",
     "output_type": "stream",
     "text": [
      "Levenshtein Distance between helo and hello = 1\n",
      "Levenshtein Distance between algorithm and rhythm = 6\n",
      "Levenshtein Distance between kitten and sitting = 3\n",
      "Levenshtein Distance between gate and goat = 2\n"
     ]
    }
   ],
   "source": [
    "def levenshtein_two_matrix_rows(str1, str2,costs=(1, 1, 1)):\n",
    "# Get the lengths of the input strings\n",
    "    m = len(str1)\n",
    "    n = len(str2)\n",
    "    deletes, inserts, substitutes = costs\n",
    "    \n",
    "    # Initialize two rows for dynamic programming\n",
    "    prev_row = [j *inserts  for j in range(n + 1)]\n",
    "    curr_row = [0] * (n + 1)\n",
    "    # Dynamic programming to fill the matrix\n",
    "    for i in range(1, m + 1):\n",
    "        # Initialize the first element of the current row\n",
    "        curr_row[0] = i * deletes\n",
    "\n",
    "        for j in range(1, n + 1):\n",
    "            if str1[i - 1] == str2[j - 1]:\n",
    "                # Characters match, no operation needed\n",
    "                cost = 0\n",
    "            else:\n",
    "                cost = substitutes\n",
    "            # Choose the minimum cost operation\n",
    "            curr_row[j] = min(\n",
    "                curr_row[j - 1]+inserts, # Insert\n",
    "                prev_row[j]+deletes,\t # Remove\n",
    "                prev_row[j - 1]+cost # Replace\n",
    "            )        \n",
    "        # Update the previous row with the current row\n",
    "        prev_row = curr_row.copy()\n",
    "    # The final element in the last row contains the Levenshtein distance\n",
    "    return curr_row[n]\n",
    "\n",
    "# Driver code\n",
    "A = [\"helo\", \"algorithm\", \"kitten\", \"gate\"]\n",
    "B = [\"hello\", \"rhythm\", \"sitting\", \"goat\"]\n",
    "\n",
    "# Function Call\n",
    "for i in range(len(A)):\n",
    "        print(\"Levenshtein Distance between {} and {} = {}\".format(A[i], B[i], levenshtein_two_matrix_rows(A[i], B[i])))\n",
    "\n"
   ]
  },
  {
   "cell_type": "code",
   "execution_count": 95,
   "metadata": {},
   "outputs": [
    {
     "name": "stdout",
     "output_type": "stream",
     "text": [
      "Levenshtein Distance between helo and hello = 3\n",
      "Levenshtein Distance between algorithm and rhythm = 12\n",
      "Levenshtein Distance between kitten and sitting = 7\n",
      "Levenshtein Distance between gate and goat = 5\n"
     ]
    }
   ],
   "source": [
    "def levenshteinRecursive(str1, str2, m, n, costs=(1, 1, 1)):\n",
    "    deletes, inserts, substitutes = costs\n",
    "    # str1 is empty\n",
    "    if m == 0:\n",
    "        return n * inserts\n",
    "    # str2 is empty\n",
    "    if n == 0:\n",
    "        return m * deletes\n",
    "    if str1[m - 1] == str2[n - 1]:\n",
    "        return levenshteinRecursive(str1, str2, m - 1, n - 1,costs) \n",
    "    return min(\n",
    "        # Insert\n",
    "        levenshteinRecursive(str1, str2, m, n - 1,costs)+inserts,\n",
    "        min(\n",
    "            # Remove\n",
    "            levenshteinRecursive(str1, str2, m - 1, n,costs)+deletes,\n",
    "            # Replace\n",
    "            levenshteinRecursive(str1, str2, m - 1, n - 1,costs)+substitutes)\n",
    "    )\n",
    "\n",
    "# Driver code\n",
    "\n",
    "A = [\"helo\", \"algorithm\", \"kitten\", \"gate\"]\n",
    "B = [\"hello\", \"rhythm\", \"sitting\", \"goat\"]\n",
    "\n",
    "# Function Call\n",
    "for i in range(len(A)):\n",
    "        print(\"Levenshtein Distance between {} and {} = {}\".format(A[i], B[i], levenshteinRecursive(A[i], B[i], len(A[i]), len(B[i]),(2,3,2))))"
   ]
  },
  {
   "cell_type": "code",
   "execution_count": null,
   "metadata": {},
   "outputs": [],
   "source": []
  },
  {
   "cell_type": "code",
   "execution_count": null,
   "metadata": {},
   "outputs": [],
   "source": []
  }
 ],
 "metadata": {
  "kernelspec": {
   "display_name": "Python 3",
   "language": "python",
   "name": "python3"
  },
  "language_info": {
   "codemirror_mode": {
    "name": "ipython",
    "version": 3
   },
   "file_extension": ".py",
   "mimetype": "text/x-python",
   "name": "python",
   "nbconvert_exporter": "python",
   "pygments_lexer": "ipython3",
   "version": "3.8.5"
  }
 },
 "nbformat": 4,
 "nbformat_minor": 4
}
